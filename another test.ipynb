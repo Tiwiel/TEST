{
 "cells": [
  {
   "cell_type": "code",
   "execution_count": 2,
   "metadata": {},
   "outputs": [
    {
     "name": "stdout",
     "output_type": "stream",
     "text": [
      "another test\n",
      "6\n"
     ]
    }
   ],
   "source": [
    "print(\"another test\")\n",
    "x = 3 \n",
    "y = 3\n",
    "c = x + y\n",
    "print(c) "
   ]
  }
 ],
 "metadata": {
  "kernelspec": {
   "display_name": "Python 3",
   "language": "python",
   "name": "python3"
  },
  "language_info": {
   "codemirror_mode": {
    "name": "ipython",
    "version": 3
   },
   "file_extension": ".py",
   "mimetype": "text/x-python",
   "name": "python",
   "nbconvert_exporter": "python",
   "pygments_lexer": "ipython3",
   "version": "3.11.1"
  },
  "orig_nbformat": 4,
  "vscode": {
   "interpreter": {
    "hash": "ba947446a2e5e6ee81781ad3619c358357f2358548179a64d8f2df8d690eef1f"
   }
  }
 },
 "nbformat": 4,
 "nbformat_minor": 2
}
